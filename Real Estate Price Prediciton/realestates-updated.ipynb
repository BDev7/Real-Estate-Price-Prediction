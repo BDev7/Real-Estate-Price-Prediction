{
 "cells": [
  {
   "cell_type": "code",
   "execution_count": 21,
   "metadata": {
    "id": "fE2fcv5Ih1Ur"
   },
   "outputs": [],
   "source": [
    "import pandas as pd"
   ]
  },
  {
   "cell_type": "code",
   "execution_count": 2,
   "metadata": {
    "id": "1jn4QFZ5kzSU"
   },
   "outputs": [],
   "source": [
    "housing=pd.read_excel(\"Delhi.xlsx\")"
   ]
  },
  {
   "cell_type": "code",
   "execution_count": 3,
   "metadata": {
    "colab": {
     "base_uri": "https://localhost:8080/",
     "height": 206
    },
    "id": "8MkarJeOk1g_",
    "outputId": "6b8334ac-b043-442a-b7c3-bfeba90de9aa"
   },
   "outputs": [
    {
     "data": {
      "text/html": [
       "<div>\n",
       "<style scoped>\n",
       "    .dataframe tbody tr th:only-of-type {\n",
       "        vertical-align: middle;\n",
       "    }\n",
       "\n",
       "    .dataframe tbody tr th {\n",
       "        vertical-align: top;\n",
       "    }\n",
       "\n",
       "    .dataframe thead th {\n",
       "        text-align: right;\n",
       "    }\n",
       "</style>\n",
       "<table border=\"1\" class=\"dataframe\">\n",
       "  <thead>\n",
       "    <tr style=\"text-align: right;\">\n",
       "      <th></th>\n",
       "      <th>Price</th>\n",
       "      <th>Area</th>\n",
       "      <th>No. of Bedrooms</th>\n",
       "      <th>Resale</th>\n",
       "      <th>MaintenanceStaff</th>\n",
       "      <th>Gymnasium</th>\n",
       "      <th>SwimmingPool</th>\n",
       "      <th>LandscapedGardens</th>\n",
       "      <th>JoggingTrack</th>\n",
       "      <th>RainWaterHarvesting</th>\n",
       "      <th>...</th>\n",
       "      <th>LiftAvailable</th>\n",
       "      <th>BED</th>\n",
       "      <th>VaastuCompliant</th>\n",
       "      <th>Microwave</th>\n",
       "      <th>GolfCourse</th>\n",
       "      <th>TV</th>\n",
       "      <th>DiningTable</th>\n",
       "      <th>Sofa</th>\n",
       "      <th>Wardrobe</th>\n",
       "      <th>Stadium</th>\n",
       "    </tr>\n",
       "  </thead>\n",
       "  <tbody>\n",
       "    <tr>\n",
       "      <th>0</th>\n",
       "      <td>10500000</td>\n",
       "      <td>1200</td>\n",
       "      <td>2</td>\n",
       "      <td>1</td>\n",
       "      <td>0</td>\n",
       "      <td>1</td>\n",
       "      <td>0</td>\n",
       "      <td>0</td>\n",
       "      <td>1</td>\n",
       "      <td>0</td>\n",
       "      <td>...</td>\n",
       "      <td>1</td>\n",
       "      <td>0</td>\n",
       "      <td>1</td>\n",
       "      <td>0</td>\n",
       "      <td>0</td>\n",
       "      <td>0</td>\n",
       "      <td>0</td>\n",
       "      <td>0</td>\n",
       "      <td>0</td>\n",
       "      <td>0</td>\n",
       "    </tr>\n",
       "    <tr>\n",
       "      <th>1</th>\n",
       "      <td>6000000</td>\n",
       "      <td>1000</td>\n",
       "      <td>3</td>\n",
       "      <td>0</td>\n",
       "      <td>0</td>\n",
       "      <td>0</td>\n",
       "      <td>0</td>\n",
       "      <td>0</td>\n",
       "      <td>0</td>\n",
       "      <td>0</td>\n",
       "      <td>...</td>\n",
       "      <td>0</td>\n",
       "      <td>0</td>\n",
       "      <td>0</td>\n",
       "      <td>0</td>\n",
       "      <td>0</td>\n",
       "      <td>0</td>\n",
       "      <td>0</td>\n",
       "      <td>0</td>\n",
       "      <td>0</td>\n",
       "      <td>0</td>\n",
       "    </tr>\n",
       "    <tr>\n",
       "      <th>2</th>\n",
       "      <td>15000000</td>\n",
       "      <td>1350</td>\n",
       "      <td>2</td>\n",
       "      <td>1</td>\n",
       "      <td>0</td>\n",
       "      <td>0</td>\n",
       "      <td>0</td>\n",
       "      <td>0</td>\n",
       "      <td>0</td>\n",
       "      <td>0</td>\n",
       "      <td>...</td>\n",
       "      <td>0</td>\n",
       "      <td>0</td>\n",
       "      <td>0</td>\n",
       "      <td>0</td>\n",
       "      <td>0</td>\n",
       "      <td>0</td>\n",
       "      <td>0</td>\n",
       "      <td>0</td>\n",
       "      <td>0</td>\n",
       "      <td>0</td>\n",
       "    </tr>\n",
       "    <tr>\n",
       "      <th>3</th>\n",
       "      <td>2500000</td>\n",
       "      <td>435</td>\n",
       "      <td>2</td>\n",
       "      <td>0</td>\n",
       "      <td>0</td>\n",
       "      <td>0</td>\n",
       "      <td>0</td>\n",
       "      <td>0</td>\n",
       "      <td>0</td>\n",
       "      <td>0</td>\n",
       "      <td>...</td>\n",
       "      <td>0</td>\n",
       "      <td>0</td>\n",
       "      <td>1</td>\n",
       "      <td>0</td>\n",
       "      <td>0</td>\n",
       "      <td>0</td>\n",
       "      <td>0</td>\n",
       "      <td>0</td>\n",
       "      <td>0</td>\n",
       "      <td>0</td>\n",
       "    </tr>\n",
       "    <tr>\n",
       "      <th>4</th>\n",
       "      <td>5800000</td>\n",
       "      <td>900</td>\n",
       "      <td>3</td>\n",
       "      <td>0</td>\n",
       "      <td>0</td>\n",
       "      <td>0</td>\n",
       "      <td>0</td>\n",
       "      <td>0</td>\n",
       "      <td>0</td>\n",
       "      <td>0</td>\n",
       "      <td>...</td>\n",
       "      <td>1</td>\n",
       "      <td>0</td>\n",
       "      <td>0</td>\n",
       "      <td>0</td>\n",
       "      <td>0</td>\n",
       "      <td>0</td>\n",
       "      <td>0</td>\n",
       "      <td>0</td>\n",
       "      <td>0</td>\n",
       "      <td>0</td>\n",
       "    </tr>\n",
       "  </tbody>\n",
       "</table>\n",
       "<p>5 rows × 39 columns</p>\n",
       "</div>"
      ],
      "text/plain": [
       "      Price  Area  No. of Bedrooms  Resale  MaintenanceStaff  Gymnasium  \\\n",
       "0  10500000  1200                2       1                 0          1   \n",
       "1   6000000  1000                3       0                 0          0   \n",
       "2  15000000  1350                2       1                 0          0   \n",
       "3   2500000   435                2       0                 0          0   \n",
       "4   5800000   900                3       0                 0          0   \n",
       "\n",
       "   SwimmingPool  LandscapedGardens  JoggingTrack  RainWaterHarvesting  ...  \\\n",
       "0             0                  0             1                    0  ...   \n",
       "1             0                  0             0                    0  ...   \n",
       "2             0                  0             0                    0  ...   \n",
       "3             0                  0             0                    0  ...   \n",
       "4             0                  0             0                    0  ...   \n",
       "\n",
       "   LiftAvailable  BED  VaastuCompliant  Microwave  GolfCourse  TV  \\\n",
       "0              1    0                1          0           0   0   \n",
       "1              0    0                0          0           0   0   \n",
       "2              0    0                0          0           0   0   \n",
       "3              0    0                1          0           0   0   \n",
       "4              1    0                0          0           0   0   \n",
       "\n",
       "   DiningTable  Sofa  Wardrobe  Stadium  \n",
       "0            0     0         0        0  \n",
       "1            0     0         0        0  \n",
       "2            0     0         0        0  \n",
       "3            0     0         0        0  \n",
       "4            0     0         0        0  \n",
       "\n",
       "[5 rows x 39 columns]"
      ]
     },
     "execution_count": 3,
     "metadata": {},
     "output_type": "execute_result"
    }
   ],
   "source": [
    "housing.head()"
   ]
  },
  {
   "cell_type": "code",
   "execution_count": 4,
   "metadata": {
    "colab": {
     "base_uri": "https://localhost:8080/"
    },
    "id": "bLsX_z2clXBP",
    "outputId": "d632eda9-9dd0-48a9-ffb4-73c57ecb6374"
   },
   "outputs": [
    {
     "name": "stdout",
     "output_type": "stream",
     "text": [
      "<class 'pandas.core.frame.DataFrame'>\n",
      "RangeIndex: 4998 entries, 0 to 4997\n",
      "Data columns (total 39 columns):\n",
      " #   Column               Non-Null Count  Dtype\n",
      "---  ------               --------------  -----\n",
      " 0   Price                4998 non-null   int64\n",
      " 1   Area                 4998 non-null   int64\n",
      " 2   No. of Bedrooms      4998 non-null   int64\n",
      " 3   Resale               4998 non-null   int64\n",
      " 4   MaintenanceStaff     4998 non-null   int64\n",
      " 5   Gymnasium            4998 non-null   int64\n",
      " 6   SwimmingPool         4998 non-null   int64\n",
      " 7   LandscapedGardens    4998 non-null   int64\n",
      " 8   JoggingTrack         4998 non-null   int64\n",
      " 9   RainWaterHarvesting  4998 non-null   int64\n",
      " 10  IndoorGames          4998 non-null   int64\n",
      " 11  ShoppingMall         4998 non-null   int64\n",
      " 12  Intercom             4998 non-null   int64\n",
      " 13  SportsFacility       4998 non-null   int64\n",
      " 14  ATM                  4998 non-null   int64\n",
      " 15  ClubHouse            4998 non-null   int64\n",
      " 16  School               4998 non-null   int64\n",
      " 17  24X7Security         4998 non-null   int64\n",
      " 18  PowerBackup          4998 non-null   int64\n",
      " 19  CarParking           4998 non-null   int64\n",
      " 20  StaffQuarter         4998 non-null   int64\n",
      " 21  Cafeteria            4998 non-null   int64\n",
      " 22  MultipurposeRoom     4998 non-null   int64\n",
      " 23  Hospital             4998 non-null   int64\n",
      " 24  WashingMachine       4998 non-null   int64\n",
      " 25  Gasconnection        4998 non-null   int64\n",
      " 26  AC                   4998 non-null   int64\n",
      " 27  Wifi                 4998 non-null   int64\n",
      " 28  Children'splayarea   4998 non-null   int64\n",
      " 29  LiftAvailable        4998 non-null   int64\n",
      " 30  BED                  4998 non-null   int64\n",
      " 31  VaastuCompliant      4998 non-null   int64\n",
      " 32  Microwave            4998 non-null   int64\n",
      " 33  GolfCourse           4998 non-null   int64\n",
      " 34  TV                   4998 non-null   int64\n",
      " 35  DiningTable          4998 non-null   int64\n",
      " 36  Sofa                 4998 non-null   int64\n",
      " 37  Wardrobe             4998 non-null   int64\n",
      " 38  Stadium              4998 non-null   int64\n",
      "dtypes: int64(39)\n",
      "memory usage: 1.5 MB\n"
     ]
    }
   ],
   "source": [
    "housing.info()"
   ]
  },
  {
   "cell_type": "code",
   "execution_count": 5,
   "metadata": {
    "colab": {
     "base_uri": "https://localhost:8080/"
    },
    "id": "4wFCTXfwmS1c",
    "outputId": "00ba1c75-a59c-490e-9ce2-85ca6daf7d40"
   },
   "outputs": [
    {
     "data": {
      "text/plain": [
       "Gymnasium\n",
       "9    2996\n",
       "0    1614\n",
       "1     388\n",
       "Name: count, dtype: int64"
      ]
     },
     "execution_count": 5,
     "metadata": {},
     "output_type": "execute_result"
    }
   ],
   "source": [
    "housing['Gymnasium'].value_counts()"
   ]
  },
  {
   "cell_type": "code",
   "execution_count": 6,
   "metadata": {
    "colab": {
     "base_uri": "https://localhost:8080/",
     "height": 320
    },
    "id": "2vemLFWimzor",
    "outputId": "f5714e4a-a7a7-4a87-af20-43ac4578cbee"
   },
   "outputs": [
    {
     "data": {
      "text/html": [
       "<div>\n",
       "<style scoped>\n",
       "    .dataframe tbody tr th:only-of-type {\n",
       "        vertical-align: middle;\n",
       "    }\n",
       "\n",
       "    .dataframe tbody tr th {\n",
       "        vertical-align: top;\n",
       "    }\n",
       "\n",
       "    .dataframe thead th {\n",
       "        text-align: right;\n",
       "    }\n",
       "</style>\n",
       "<table border=\"1\" class=\"dataframe\">\n",
       "  <thead>\n",
       "    <tr style=\"text-align: right;\">\n",
       "      <th></th>\n",
       "      <th>Price</th>\n",
       "      <th>Area</th>\n",
       "      <th>No. of Bedrooms</th>\n",
       "      <th>Resale</th>\n",
       "      <th>MaintenanceStaff</th>\n",
       "      <th>Gymnasium</th>\n",
       "      <th>SwimmingPool</th>\n",
       "      <th>LandscapedGardens</th>\n",
       "      <th>JoggingTrack</th>\n",
       "      <th>RainWaterHarvesting</th>\n",
       "      <th>...</th>\n",
       "      <th>LiftAvailable</th>\n",
       "      <th>BED</th>\n",
       "      <th>VaastuCompliant</th>\n",
       "      <th>Microwave</th>\n",
       "      <th>GolfCourse</th>\n",
       "      <th>TV</th>\n",
       "      <th>DiningTable</th>\n",
       "      <th>Sofa</th>\n",
       "      <th>Wardrobe</th>\n",
       "      <th>Stadium</th>\n",
       "    </tr>\n",
       "  </thead>\n",
       "  <tbody>\n",
       "    <tr>\n",
       "      <th>count</th>\n",
       "      <td>4.998000e+03</td>\n",
       "      <td>4998.000000</td>\n",
       "      <td>4998.000000</td>\n",
       "      <td>4998.00000</td>\n",
       "      <td>4998.000000</td>\n",
       "      <td>4998.000000</td>\n",
       "      <td>4998.000000</td>\n",
       "      <td>4998.000000</td>\n",
       "      <td>4998.000000</td>\n",
       "      <td>4998.000000</td>\n",
       "      <td>...</td>\n",
       "      <td>4998.000000</td>\n",
       "      <td>4998.000000</td>\n",
       "      <td>4998.000000</td>\n",
       "      <td>4998.000000</td>\n",
       "      <td>4998.000000</td>\n",
       "      <td>4998.000000</td>\n",
       "      <td>4998.000000</td>\n",
       "      <td>4998.000000</td>\n",
       "      <td>4998.000000</td>\n",
       "      <td>4998.000000</td>\n",
       "    </tr>\n",
       "    <tr>\n",
       "      <th>mean</th>\n",
       "      <td>1.588638e+07</td>\n",
       "      <td>1277.343737</td>\n",
       "      <td>2.657863</td>\n",
       "      <td>0.80012</td>\n",
       "      <td>5.423770</td>\n",
       "      <td>5.472589</td>\n",
       "      <td>5.415966</td>\n",
       "      <td>5.435574</td>\n",
       "      <td>5.412765</td>\n",
       "      <td>5.437975</td>\n",
       "      <td>...</td>\n",
       "      <td>5.655662</td>\n",
       "      <td>5.416367</td>\n",
       "      <td>5.456783</td>\n",
       "      <td>5.413165</td>\n",
       "      <td>5.394958</td>\n",
       "      <td>5.415566</td>\n",
       "      <td>5.408764</td>\n",
       "      <td>5.412965</td>\n",
       "      <td>5.394958</td>\n",
       "      <td>5.411565</td>\n",
       "    </tr>\n",
       "    <tr>\n",
       "      <th>std</th>\n",
       "      <td>4.612894e+07</td>\n",
       "      <td>915.217800</td>\n",
       "      <td>0.820605</td>\n",
       "      <td>0.39995</td>\n",
       "      <td>4.378355</td>\n",
       "      <td>4.322819</td>\n",
       "      <td>4.387116</td>\n",
       "      <td>4.365041</td>\n",
       "      <td>4.390702</td>\n",
       "      <td>4.362324</td>\n",
       "      <td>...</td>\n",
       "      <td>4.102704</td>\n",
       "      <td>4.386668</td>\n",
       "      <td>4.340938</td>\n",
       "      <td>4.390254</td>\n",
       "      <td>4.410549</td>\n",
       "      <td>4.387565</td>\n",
       "      <td>4.395176</td>\n",
       "      <td>4.390478</td>\n",
       "      <td>4.410549</td>\n",
       "      <td>4.392045</td>\n",
       "    </tr>\n",
       "    <tr>\n",
       "      <th>min</th>\n",
       "      <td>2.000000e+06</td>\n",
       "      <td>200.000000</td>\n",
       "      <td>1.000000</td>\n",
       "      <td>0.00000</td>\n",
       "      <td>0.000000</td>\n",
       "      <td>0.000000</td>\n",
       "      <td>0.000000</td>\n",
       "      <td>0.000000</td>\n",
       "      <td>0.000000</td>\n",
       "      <td>0.000000</td>\n",
       "      <td>...</td>\n",
       "      <td>0.000000</td>\n",
       "      <td>0.000000</td>\n",
       "      <td>0.000000</td>\n",
       "      <td>0.000000</td>\n",
       "      <td>0.000000</td>\n",
       "      <td>0.000000</td>\n",
       "      <td>0.000000</td>\n",
       "      <td>0.000000</td>\n",
       "      <td>0.000000</td>\n",
       "      <td>0.000000</td>\n",
       "    </tr>\n",
       "    <tr>\n",
       "      <th>25%</th>\n",
       "      <td>2.900000e+06</td>\n",
       "      <td>800.000000</td>\n",
       "      <td>2.000000</td>\n",
       "      <td>1.00000</td>\n",
       "      <td>0.000000</td>\n",
       "      <td>0.000000</td>\n",
       "      <td>0.000000</td>\n",
       "      <td>0.000000</td>\n",
       "      <td>0.000000</td>\n",
       "      <td>0.000000</td>\n",
       "      <td>...</td>\n",
       "      <td>1.000000</td>\n",
       "      <td>0.000000</td>\n",
       "      <td>0.000000</td>\n",
       "      <td>0.000000</td>\n",
       "      <td>0.000000</td>\n",
       "      <td>0.000000</td>\n",
       "      <td>0.000000</td>\n",
       "      <td>0.000000</td>\n",
       "      <td>0.000000</td>\n",
       "      <td>0.000000</td>\n",
       "    </tr>\n",
       "    <tr>\n",
       "      <th>50%</th>\n",
       "      <td>5.500000e+06</td>\n",
       "      <td>1000.000000</td>\n",
       "      <td>3.000000</td>\n",
       "      <td>1.00000</td>\n",
       "      <td>9.000000</td>\n",
       "      <td>9.000000</td>\n",
       "      <td>9.000000</td>\n",
       "      <td>9.000000</td>\n",
       "      <td>9.000000</td>\n",
       "      <td>9.000000</td>\n",
       "      <td>...</td>\n",
       "      <td>9.000000</td>\n",
       "      <td>9.000000</td>\n",
       "      <td>9.000000</td>\n",
       "      <td>9.000000</td>\n",
       "      <td>9.000000</td>\n",
       "      <td>9.000000</td>\n",
       "      <td>9.000000</td>\n",
       "      <td>9.000000</td>\n",
       "      <td>9.000000</td>\n",
       "      <td>9.000000</td>\n",
       "    </tr>\n",
       "    <tr>\n",
       "      <th>75%</th>\n",
       "      <td>1.580000e+07</td>\n",
       "      <td>1650.000000</td>\n",
       "      <td>3.000000</td>\n",
       "      <td>1.00000</td>\n",
       "      <td>9.000000</td>\n",
       "      <td>9.000000</td>\n",
       "      <td>9.000000</td>\n",
       "      <td>9.000000</td>\n",
       "      <td>9.000000</td>\n",
       "      <td>9.000000</td>\n",
       "      <td>...</td>\n",
       "      <td>9.000000</td>\n",
       "      <td>9.000000</td>\n",
       "      <td>9.000000</td>\n",
       "      <td>9.000000</td>\n",
       "      <td>9.000000</td>\n",
       "      <td>9.000000</td>\n",
       "      <td>9.000000</td>\n",
       "      <td>9.000000</td>\n",
       "      <td>9.000000</td>\n",
       "      <td>9.000000</td>\n",
       "    </tr>\n",
       "    <tr>\n",
       "      <th>max</th>\n",
       "      <td>8.546000e+08</td>\n",
       "      <td>16000.000000</td>\n",
       "      <td>8.000000</td>\n",
       "      <td>1.00000</td>\n",
       "      <td>9.000000</td>\n",
       "      <td>9.000000</td>\n",
       "      <td>9.000000</td>\n",
       "      <td>9.000000</td>\n",
       "      <td>9.000000</td>\n",
       "      <td>9.000000</td>\n",
       "      <td>...</td>\n",
       "      <td>9.000000</td>\n",
       "      <td>9.000000</td>\n",
       "      <td>9.000000</td>\n",
       "      <td>9.000000</td>\n",
       "      <td>9.000000</td>\n",
       "      <td>9.000000</td>\n",
       "      <td>9.000000</td>\n",
       "      <td>9.000000</td>\n",
       "      <td>9.000000</td>\n",
       "      <td>9.000000</td>\n",
       "    </tr>\n",
       "  </tbody>\n",
       "</table>\n",
       "<p>8 rows × 39 columns</p>\n",
       "</div>"
      ],
      "text/plain": [
       "              Price          Area  No. of Bedrooms      Resale  \\\n",
       "count  4.998000e+03   4998.000000      4998.000000  4998.00000   \n",
       "mean   1.588638e+07   1277.343737         2.657863     0.80012   \n",
       "std    4.612894e+07    915.217800         0.820605     0.39995   \n",
       "min    2.000000e+06    200.000000         1.000000     0.00000   \n",
       "25%    2.900000e+06    800.000000         2.000000     1.00000   \n",
       "50%    5.500000e+06   1000.000000         3.000000     1.00000   \n",
       "75%    1.580000e+07   1650.000000         3.000000     1.00000   \n",
       "max    8.546000e+08  16000.000000         8.000000     1.00000   \n",
       "\n",
       "       MaintenanceStaff    Gymnasium  SwimmingPool  LandscapedGardens  \\\n",
       "count       4998.000000  4998.000000   4998.000000        4998.000000   \n",
       "mean           5.423770     5.472589      5.415966           5.435574   \n",
       "std            4.378355     4.322819      4.387116           4.365041   \n",
       "min            0.000000     0.000000      0.000000           0.000000   \n",
       "25%            0.000000     0.000000      0.000000           0.000000   \n",
       "50%            9.000000     9.000000      9.000000           9.000000   \n",
       "75%            9.000000     9.000000      9.000000           9.000000   \n",
       "max            9.000000     9.000000      9.000000           9.000000   \n",
       "\n",
       "       JoggingTrack  RainWaterHarvesting  ...  LiftAvailable          BED  \\\n",
       "count   4998.000000          4998.000000  ...    4998.000000  4998.000000   \n",
       "mean       5.412765             5.437975  ...       5.655662     5.416367   \n",
       "std        4.390702             4.362324  ...       4.102704     4.386668   \n",
       "min        0.000000             0.000000  ...       0.000000     0.000000   \n",
       "25%        0.000000             0.000000  ...       1.000000     0.000000   \n",
       "50%        9.000000             9.000000  ...       9.000000     9.000000   \n",
       "75%        9.000000             9.000000  ...       9.000000     9.000000   \n",
       "max        9.000000             9.000000  ...       9.000000     9.000000   \n",
       "\n",
       "       VaastuCompliant    Microwave   GolfCourse           TV  DiningTable  \\\n",
       "count      4998.000000  4998.000000  4998.000000  4998.000000  4998.000000   \n",
       "mean          5.456783     5.413165     5.394958     5.415566     5.408764   \n",
       "std           4.340938     4.390254     4.410549     4.387565     4.395176   \n",
       "min           0.000000     0.000000     0.000000     0.000000     0.000000   \n",
       "25%           0.000000     0.000000     0.000000     0.000000     0.000000   \n",
       "50%           9.000000     9.000000     9.000000     9.000000     9.000000   \n",
       "75%           9.000000     9.000000     9.000000     9.000000     9.000000   \n",
       "max           9.000000     9.000000     9.000000     9.000000     9.000000   \n",
       "\n",
       "              Sofa     Wardrobe      Stadium  \n",
       "count  4998.000000  4998.000000  4998.000000  \n",
       "mean      5.412965     5.394958     5.411565  \n",
       "std       4.390478     4.410549     4.392045  \n",
       "min       0.000000     0.000000     0.000000  \n",
       "25%       0.000000     0.000000     0.000000  \n",
       "50%       9.000000     9.000000     9.000000  \n",
       "75%       9.000000     9.000000     9.000000  \n",
       "max       9.000000     9.000000     9.000000  \n",
       "\n",
       "[8 rows x 39 columns]"
      ]
     },
     "execution_count": 6,
     "metadata": {},
     "output_type": "execute_result"
    }
   ],
   "source": [
    "housing.describe()"
   ]
  },
  {
   "cell_type": "code",
   "execution_count": 7,
   "metadata": {
    "id": "n7Qd-GT3n60N"
   },
   "outputs": [],
   "source": [
    "%matplotlib inline"
   ]
  },
  {
   "cell_type": "code",
   "execution_count": 8,
   "metadata": {
    "id": "5rnqfOX0oDwe"
   },
   "outputs": [
    {
     "data": {
      "text/plain": [
       "array([[<Axes: title={'center': 'Price'}>,\n",
       "        <Axes: title={'center': 'Area'}>,\n",
       "        <Axes: title={'center': 'No. of Bedrooms'}>,\n",
       "        <Axes: title={'center': 'Resale'}>,\n",
       "        <Axes: title={'center': 'MaintenanceStaff'}>,\n",
       "        <Axes: title={'center': 'Gymnasium'}>],\n",
       "       [<Axes: title={'center': 'SwimmingPool'}>,\n",
       "        <Axes: title={'center': 'LandscapedGardens'}>,\n",
       "        <Axes: title={'center': 'JoggingTrack'}>,\n",
       "        <Axes: title={'center': 'RainWaterHarvesting'}>,\n",
       "        <Axes: title={'center': 'IndoorGames'}>,\n",
       "        <Axes: title={'center': 'ShoppingMall'}>],\n",
       "       [<Axes: title={'center': 'Intercom'}>,\n",
       "        <Axes: title={'center': 'SportsFacility'}>,\n",
       "        <Axes: title={'center': 'ATM'}>,\n",
       "        <Axes: title={'center': 'ClubHouse'}>,\n",
       "        <Axes: title={'center': 'School'}>,\n",
       "        <Axes: title={'center': '24X7Security'}>],\n",
       "       [<Axes: title={'center': 'PowerBackup'}>,\n",
       "        <Axes: title={'center': 'CarParking'}>,\n",
       "        <Axes: title={'center': 'StaffQuarter'}>,\n",
       "        <Axes: title={'center': 'Cafeteria'}>,\n",
       "        <Axes: title={'center': 'MultipurposeRoom'}>,\n",
       "        <Axes: title={'center': 'Hospital'}>],\n",
       "       [<Axes: title={'center': 'WashingMachine'}>,\n",
       "        <Axes: title={'center': 'Gasconnection'}>,\n",
       "        <Axes: title={'center': 'AC'}>, <Axes: title={'center': 'Wifi'}>,\n",
       "        <Axes: title={'center': \"Children'splayarea\"}>,\n",
       "        <Axes: title={'center': 'LiftAvailable'}>],\n",
       "       [<Axes: title={'center': 'BED'}>,\n",
       "        <Axes: title={'center': 'VaastuCompliant'}>,\n",
       "        <Axes: title={'center': 'Microwave'}>,\n",
       "        <Axes: title={'center': 'GolfCourse'}>,\n",
       "        <Axes: title={'center': 'TV'}>,\n",
       "        <Axes: title={'center': 'DiningTable'}>],\n",
       "       [<Axes: title={'center': 'Sofa'}>,\n",
       "        <Axes: title={'center': 'Wardrobe'}>,\n",
       "        <Axes: title={'center': 'Stadium'}>, <Axes: >, <Axes: >,\n",
       "        <Axes: >]], dtype=object)"
      ]
     },
     "execution_count": 8,
     "metadata": {},
     "output_type": "execute_result"
    },
    {
     "data": {
      "image/png": "[encoded data removed]",
      "text/plain": [
       "<Figure size 2000x1500 with 42 Axes>"
      ]
     },
     "metadata": {},
     "output_type": "display_data"
    }
   ],
   "source": [
    "import matplotlib.pyplot as plt\n",
    "housing.hist(bins=50, figsize=(20,15))"
   ]
  },
  {
   "cell_type": "code",
   "execution_count": 9,
   "metadata": {
    "id": "sZwc0kCNqb_k"
   },
   "outputs": [],
   "source": [
    "#Train-test splitting\n",
    "import numpy as np\n",
    "def split_train_test(data, test_ratio):\n",
    "    np.random.seed(42)\n",
    "    shuffled = np.random.permutation(len(data))\n",
    "    print(shuffled)\n",
    "    test_set_size = int(len(data) * test_ratio)\n",
    "    test_indices = shuffled[:test_set_size]\n",
    "    train_indices = shuffled[test_set_size:]\n",
    "    return data.iloc[train_indices], data.iloc[test_indices]"
   ]
  },
  {
   "cell_type": "code",
   "execution_count": 10,
   "metadata": {
    "id": "8E0V1Qf2sIpC"
   },
   "outputs": [
    {
     "name": "stdout",
     "output_type": "stream",
     "text": [
      "[  84 2470 2803 ... 3092 3772  860]\n"
     ]
    }
   ],
   "source": [
    "train_set, test_set=split_train_test(housing,0.2)"
   ]
  },
  {
   "cell_type": "code",
   "execution_count": 11,
   "metadata": {
    "id": "yUgcXPnpsWJ1"
   },
   "outputs": [
    {
     "name": "stdout",
     "output_type": "stream",
     "text": [
      "Rows in train set: 3999\n",
      "Rows in test set: 999\n",
      "\n"
     ]
    }
   ],
   "source": [
    "print(f\"Rows in train set: {len(train_set)}\\nRows in test set: {len(test_set)}\\n\")"
   ]
  },
  {
   "cell_type": "code",
   "execution_count": 12,
   "metadata": {
    "colab": {
     "base_uri": "https://localhost:8080/"
    },
    "id": "CLtRkYzFPict",
    "outputId": "a0bfc9e2-1875-4d98-b6dc-8955df0574f1"
   },
   "outputs": [
    {
     "name": "stdout",
     "output_type": "stream",
     "text": [
      "Rows in train set: 3998\n",
      "Rows in test set: 1000\n",
      "\n"
     ]
    }
   ],
   "source": [
    "from sklearn.model_selection import train_test_split\n",
    "train_set, test_set=train_test_split(housing,test_size=0.2,random_state=42)\n",
    "print(f\"Rows in train set: {len(train_set)}\\nRows in test set: {len(test_set)}\\n\")"
   ]
  },
  {
   "cell_type": "code",
   "execution_count": 13,
   "metadata": {
    "id": "AFIlABvPS4Gu"
   },
   "outputs": [],
   "source": [
    "from sklearn.model_selection import StratifiedShuffleSplit\n",
    "split=StratifiedShuffleSplit(n_splits=1,test_size=0.2,random_state=42)\n",
    "for train_index, test_index in split.split(housing,housing['SwimmingPool']):\n",
    "  strat_train_set=housing.loc[train_index]\n",
    "  strat_test_set=housing.loc[test_index]"
   ]
  },
  {
   "cell_type": "code",
   "execution_count": 14,
   "metadata": {
    "colab": {
     "base_uri": "https://localhost:8080/"
    },
    "id": "sStb-B9aUNRP",
    "outputId": "dc5e3f4e-beb2-43e9-84b9-6b2d2bcc7e76"
   },
   "outputs": [
    {
     "data": {
      "text/plain": [
       "SwimmingPool\n",
       "9    599\n",
       "0    380\n",
       "1     21\n",
       "Name: count, dtype: int64"
      ]
     },
     "execution_count": 14,
     "metadata": {},
     "output_type": "execute_result"
    }
   ],
   "source": [
    "strat_test_set['SwimmingPool'].value_counts()"
   ]
  },
  {
   "cell_type": "code",
   "execution_count": 15,
   "metadata": {
    "colab": {
     "base_uri": "https://localhost:8080/"
    },
    "id": "HqrUo25WU8Sb",
    "outputId": "918640a0-f72d-48ec-d527-c66e1885301b"
   },
   "outputs": [
    {
     "data": {
      "text/plain": [
       "SwimmingPool\n",
       "9    2397\n",
       "0    1517\n",
       "1      84\n",
       "Name: count, dtype: int64"
      ]
     },
     "execution_count": 15,
     "metadata": {},
     "output_type": "execute_result"
    }
   ],
   "source": [
    "strat_train_set['SwimmingPool'].value_counts()"
   ]
  },
  {
   "cell_type": "code",
   "execution_count": 16,
   "metadata": {
    "id": "upOd9IPtjtO0"
   },
   "outputs": [],
   "source": [
    "housing=strat_train_set.copy()"
   ]
  },
  {
   "cell_type": "code",
   "execution_count": 17,
   "metadata": {
    "colab": {
     "base_uri": "https://localhost:8080/"
    },
    "id": "Ug1_siLJW4nP",
    "outputId": "d0f51099-1c21-47f5-e835-2e25c22c0147"
   },
   "outputs": [
    {
     "data": {
      "text/plain": [
       "Intercom               1.000000\n",
       "ClubHouse              0.997448\n",
       "PowerBackup            0.997282\n",
       "MaintenanceStaff       0.997235\n",
       "JoggingTrack           0.997225\n",
       "StaffQuarter           0.997216\n",
       "School                 0.997215\n",
       "Hospital               0.997214\n",
       "MultipurposeRoom       0.997209\n",
       "SwimmingPool           0.997204\n",
       "ATM                    0.997202\n",
       "GolfCourse             0.997197\n",
       "Wardrobe               0.997197\n",
       "Wifi                   0.997197\n",
       "24X7Security           0.997192\n",
       "IndoorGames            0.997184\n",
       "Cafeteria              0.997179\n",
       "ShoppingMall           0.997160\n",
       "Microwave              0.997110\n",
       "WashingMachine         0.997095\n",
       "DiningTable            0.997083\n",
       "SportsFacility         0.997063\n",
       "Stadium                0.997020\n",
       "TV                     0.996918\n",
       "Sofa                   0.996895\n",
       "BED                    0.996870\n",
       "Gymnasium              0.996861\n",
       "AC                     0.996818\n",
       "Children'splayarea     0.996807\n",
       "RainWaterHarvesting    0.996728\n",
       "LandscapedGardens      0.996557\n",
       "Gasconnection          0.996476\n",
       "LiftAvailable          0.996403\n",
       "VaastuCompliant        0.996316\n",
       "CarParking             0.995664\n",
       "Resale                 0.199564\n",
       "Price                  0.097260\n",
       "Area                   0.085621\n",
       "No. of Bedrooms       -0.013866\n",
       "Name: Intercom, dtype: float64"
      ]
     },
     "execution_count": 17,
     "metadata": {},
     "output_type": "execute_result"
    }
   ],
   "source": [
    "corr_matrix=housing.corr()\n",
    "corr_matrix['Intercom'].sort_values(ascending=False)"
   ]
  },
  {
   "cell_type": "code",
   "execution_count": 18,
   "metadata": {
    "colab": {
     "base_uri": "https://localhost:8080/",
     "height": 992
    },
    "id": "apS1OFjcG1CE",
    "outputId": "4b43303f-09ae-4e61-c0f9-57fdb0f84d77"
   },
   "outputs": [
    {
     "data": {
      "text/plain": [
       "array([[<Axes: xlabel='Resale', ylabel='Resale'>,\n",
       "        <Axes: xlabel='ATM', ylabel='Resale'>,\n",
       "        <Axes: xlabel='Gymnasium', ylabel='Resale'>,\n",
       "        <Axes: xlabel='MaintenanceStaff', ylabel='Resale'>,\n",
       "        <Axes: xlabel='LandscapedGardens', ylabel='Resale'>,\n",
       "        <Axes: xlabel='RainWaterHarvesting', ylabel='Resale'>,\n",
       "        <Axes: xlabel='Cafeteria', ylabel='Resale'>,\n",
       "        <Axes: xlabel='CarParking', ylabel='Resale'>],\n",
       "       [<Axes: xlabel='Resale', ylabel='ATM'>,\n",
       "        <Axes: xlabel='ATM', ylabel='ATM'>,\n",
       "        <Axes: xlabel='Gymnasium', ylabel='ATM'>,\n",
       "        <Axes: xlabel='MaintenanceStaff', ylabel='ATM'>,\n",
       "        <Axes: xlabel='LandscapedGardens', ylabel='ATM'>,\n",
       "        <Axes: xlabel='RainWaterHarvesting', ylabel='ATM'>,\n",
       "        <Axes: xlabel='Cafeteria', ylabel='ATM'>,\n",
       "        <Axes: xlabel='CarParking', ylabel='ATM'>],\n",
       "       [<Axes: xlabel='Resale', ylabel='Gymnasium'>,\n",
       "        <Axes: xlabel='ATM', ylabel='Gymnasium'>,\n",
       "        <Axes: xlabel='Gymnasium', ylabel='Gymnasium'>,\n",
       "        <Axes: xlabel='MaintenanceStaff', ylabel='Gymnasium'>,\n",
       "        <Axes: xlabel='LandscapedGardens', ylabel='Gymnasium'>,\n",
       "        <Axes: xlabel='RainWaterHarvesting', ylabel='Gymnasium'>,\n",
       "        <Axes: xlabel='Cafeteria', ylabel='Gymnasium'>,\n",
       "        <Axes: xlabel='CarParking', ylabel='Gymnasium'>],\n",
       "       [<Axes: xlabel='Resale', ylabel='MaintenanceStaff'>,\n",
       "        <Axes: xlabel='ATM', ylabel='MaintenanceStaff'>,\n",
       "        <Axes: xlabel='Gymnasium', ylabel='MaintenanceStaff'>,\n",
       "        <Axes: xlabel='MaintenanceStaff', ylabel='MaintenanceStaff'>,\n",
       "        <Axes: xlabel='LandscapedGardens', ylabel='MaintenanceStaff'>,\n",
       "        <Axes: xlabel='RainWaterHarvesting', ylabel='MaintenanceStaff'>,\n",
       "        <Axes: xlabel='Cafeteria', ylabel='MaintenanceStaff'>,\n",
       "        <Axes: xlabel='CarParking', ylabel='MaintenanceStaff'>],\n",
       "       [<Axes: xlabel='Resale', ylabel='LandscapedGardens'>,\n",
       "        <Axes: xlabel='ATM', ylabel='LandscapedGardens'>,\n",
       "        <Axes: xlabel='Gymnasium', ylabel='LandscapedGardens'>,\n",
       "        <Axes: xlabel='MaintenanceStaff', ylabel='LandscapedGardens'>,\n",
       "        <Axes: xlabel='LandscapedGardens', ylabel='LandscapedGardens'>,\n",
       "        <Axes: xlabel='RainWaterHarvesting', ylabel='LandscapedGardens'>,\n",
       "        <Axes: xlabel='Cafeteria', ylabel='LandscapedGardens'>,\n",
       "        <Axes: xlabel='CarParking', ylabel='LandscapedGardens'>],\n",
       "       [<Axes: xlabel='Resale', ylabel='RainWaterHarvesting'>,\n",
       "        <Axes: xlabel='ATM', ylabel='RainWaterHarvesting'>,\n",
       "        <Axes: xlabel='Gymnasium', ylabel='RainWaterHarvesting'>,\n",
       "        <Axes: xlabel='MaintenanceStaff', ylabel='RainWaterHarvesting'>,\n",
       "        <Axes: xlabel='LandscapedGardens', ylabel='RainWaterHarvesting'>,\n",
       "        <Axes: xlabel='RainWaterHarvesting', ylabel='RainWaterHarvesting'>,\n",
       "        <Axes: xlabel='Cafeteria', ylabel='RainWaterHarvesting'>,\n",
       "        <Axes: xlabel='CarParking', ylabel='RainWaterHarvesting'>],\n",
       "       [<Axes: xlabel='Resale', ylabel='Cafeteria'>,\n",
       "        <Axes: xlabel='ATM', ylabel='Cafeteria'>,\n",
       "        <Axes: xlabel='Gymnasium', ylabel='Cafeteria'>,\n",
       "        <Axes: xlabel='MaintenanceStaff', ylabel='Cafeteria'>,\n",
       "        <Axes: xlabel='LandscapedGardens', ylabel='Cafeteria'>,\n",
       "        <Axes: xlabel='RainWaterHarvesting', ylabel='Cafeteria'>,\n",
       "        <Axes: xlabel='Cafeteria', ylabel='Cafeteria'>,\n",
       "        <Axes: xlabel='CarParking', ylabel='Cafeteria'>],\n",
       "       [<Axes: xlabel='Resale', ylabel='CarParking'>,\n",
       "        <Axes: xlabel='ATM', ylabel='CarParking'>,\n",
       "        <Axes: xlabel='Gymnasium', ylabel='CarParking'>,\n",
       "        <Axes: xlabel='MaintenanceStaff', ylabel='CarParking'>,\n",
       "        <Axes: xlabel='LandscapedGardens', ylabel='CarParking'>,\n",
       "        <Axes: xlabel='RainWaterHarvesting', ylabel='CarParking'>,\n",
       "        <Axes: xlabel='Cafeteria', ylabel='CarParking'>,\n",
       "        <Axes: xlabel='CarParking', ylabel='CarParking'>]], dtype=object)"
      ]
     },
     "execution_count": 18,
     "metadata": {},
     "output_type": "execute_result"
    },
    {
     "data": {
      "image/png": "[encoded data removed]",
      "text/plain": [
       "<Figure size 1200x800 with 64 Axes>"
      ]
     },
     "metadata": {},
     "output_type": "display_data"
    }
   ],
   "source": [
    "from pandas.plotting import scatter_matrix\n",
    "attributes=[\"Resale\",\"ATM\",\"Gymnasium\",\"MaintenanceStaff\",\"LandscapedGardens\",\"RainWaterHarvesting\",\"Cafeteria\",\"CarParking\"]\n",
    "scatter_matrix(housing[attributes],figsize=(12,8))"
   ]
  },
  {
   "cell_type": "code",
   "execution_count": 19,
   "metadata": {
    "colab": {
     "base_uri": "https://localhost:8080/",
     "height": 467
    },
    "id": "akiM2ZiQJ0xu",
    "outputId": "e9b89a01-9c69-4d32-e411-df0c84ba4825"
   },
   "outputs": [
    {
     "data": {
      "text/plain": [
       "<Axes: xlabel='No. of Bedrooms', ylabel='Resale'>"
      ]
     },
     "execution_count": 19,
     "metadata": {},
     "output_type": "execute_result"
    },
    {
     "data": {
      "image/png": "[encoded data removed]",
      "text/plain": [
       "<Figure size 640x480 with 1 Axes>"
      ]
     },
     "metadata": {},
     "output_type": "display_data"
    }
   ],
   "source": [
    "housing.plot(kind=\"scatter\",x=\"No. of Bedrooms\",y=\"Resale\",alpha=0.8)"
   ]
  },
  {
   "cell_type": "code",
   "execution_count": 20,
   "metadata": {
    "id": "HmvGqWEkLqvG"
   },
   "outputs": [
    {
     "ename": "KeyError",
     "evalue": "'TAX'",
     "output_type": "error",
     "traceback": [
      "\u001b[0;31m---------------------------------------------------------------------------\u001b[0m",
      "\u001b[0;31mKeyError\u001b[0m                                  Traceback (most recent call last)",
      "File \u001b[0;32m/Library/Frameworks/Python.framework/Versions/3.12/lib/python3.12/site-packages/pandas/core/indexes/base.py:3805\u001b[0m, in \u001b[0;36mIndex.get_loc\u001b[0;34m(self, key)\u001b[0m\n\u001b[1;32m   3804\u001b[0m \u001b[38;5;28;01mtry\u001b[39;00m:\n\u001b[0;32m-> 3805\u001b[0m     \u001b[38;5;28;01mreturn\u001b[39;00m \u001b[38;5;28;43mself\u001b[39;49m\u001b[38;5;241;43m.\u001b[39;49m\u001b[43m_engine\u001b[49m\u001b[38;5;241;43m.\u001b[39;49m\u001b[43mget_loc\u001b[49m\u001b[43m(\u001b[49m\u001b[43mcasted_key\u001b[49m\u001b[43m)\u001b[49m\n\u001b[1;32m   3806\u001b[0m \u001b[38;5;28;01mexcept\u001b[39;00m \u001b[38;5;167;01mKeyError\u001b[39;00m \u001b[38;5;28;01mas\u001b[39;00m err:\n",
      "File \u001b[0;32mindex.pyx:167\u001b[0m, in \u001b[0;36mpandas._libs.index.IndexEngine.get_loc\u001b[0;34m()\u001b[0m\n",
      "File \u001b[0;32mindex.pyx:196\u001b[0m, in \u001b[0;36mpandas._libs.index.IndexEngine.get_loc\u001b[0;34m()\u001b[0m\n",
      "File \u001b[0;32mpandas/_libs/hashtable_class_helper.pxi:7081\u001b[0m, in \u001b[0;36mpandas._libs.hashtable.PyObjectHashTable.get_item\u001b[0;34m()\u001b[0m\n",
      "File \u001b[0;32mpandas/_libs/hashtable_class_helper.pxi:7089\u001b[0m, in \u001b[0;36mpandas._libs.hashtable.PyObjectHashTable.get_item\u001b[0;34m()\u001b[0m\n",
      "\u001b[0;31mKeyError\u001b[0m: 'TAX'",
      "\nThe above exception was the direct cause of the following exception:\n",
      "\u001b[0;31mKeyError\u001b[0m                                  Traceback (most recent call last)",
      "Cell \u001b[0;32mIn[20], line 2\u001b[0m\n\u001b[1;32m      1\u001b[0m \u001b[38;5;66;03m#trying out attribute combination\u001b[39;00m\n\u001b[0;32m----> 2\u001b[0m housing[\u001b[38;5;124m\"\u001b[39m\u001b[38;5;124mTAXRM\u001b[39m\u001b[38;5;124m\"\u001b[39m]\u001b[38;5;241m=\u001b[39m\u001b[43mhousing\u001b[49m\u001b[43m[\u001b[49m\u001b[38;5;124;43m'\u001b[39;49m\u001b[38;5;124;43mTAX\u001b[39;49m\u001b[38;5;124;43m'\u001b[39;49m\u001b[43m]\u001b[49m\u001b[38;5;241m/\u001b[39mhousing[\u001b[38;5;124m'\u001b[39m\u001b[38;5;124mRM\u001b[39m\u001b[38;5;124m'\u001b[39m]\n",
      "File \u001b[0;32m/Library/Frameworks/Python.framework/Versions/3.12/lib/python3.12/site-packages/pandas/core/frame.py:4090\u001b[0m, in \u001b[0;36mDataFrame.__getitem__\u001b[0;34m(self, key)\u001b[0m\n\u001b[1;32m   4088\u001b[0m \u001b[38;5;28;01mif\u001b[39;00m \u001b[38;5;28mself\u001b[39m\u001b[38;5;241m.\u001b[39mcolumns\u001b[38;5;241m.\u001b[39mnlevels \u001b[38;5;241m>\u001b[39m \u001b[38;5;241m1\u001b[39m:\n\u001b[1;32m   4089\u001b[0m     \u001b[38;5;28;01mreturn\u001b[39;00m \u001b[38;5;28mself\u001b[39m\u001b[38;5;241m.\u001b[39m_getitem_multilevel(key)\n\u001b[0;32m-> 4090\u001b[0m indexer \u001b[38;5;241m=\u001b[39m \u001b[38;5;28;43mself\u001b[39;49m\u001b[38;5;241;43m.\u001b[39;49m\u001b[43mcolumns\u001b[49m\u001b[38;5;241;43m.\u001b[39;49m\u001b[43mget_loc\u001b[49m\u001b[43m(\u001b[49m\u001b[43mkey\u001b[49m\u001b[43m)\u001b[49m\n\u001b[1;32m   4091\u001b[0m \u001b[38;5;28;01mif\u001b[39;00m is_integer(indexer):\n\u001b[1;32m   4092\u001b[0m     indexer \u001b[38;5;241m=\u001b[39m [indexer]\n",
      "File \u001b[0;32m/Library/Frameworks/Python.framework/Versions/3.12/lib/python3.12/site-packages/pandas/core/indexes/base.py:3812\u001b[0m, in \u001b[0;36mIndex.get_loc\u001b[0;34m(self, key)\u001b[0m\n\u001b[1;32m   3807\u001b[0m     \u001b[38;5;28;01mif\u001b[39;00m \u001b[38;5;28misinstance\u001b[39m(casted_key, \u001b[38;5;28mslice\u001b[39m) \u001b[38;5;129;01mor\u001b[39;00m (\n\u001b[1;32m   3808\u001b[0m         \u001b[38;5;28misinstance\u001b[39m(casted_key, abc\u001b[38;5;241m.\u001b[39mIterable)\n\u001b[1;32m   3809\u001b[0m         \u001b[38;5;129;01mand\u001b[39;00m \u001b[38;5;28many\u001b[39m(\u001b[38;5;28misinstance\u001b[39m(x, \u001b[38;5;28mslice\u001b[39m) \u001b[38;5;28;01mfor\u001b[39;00m x \u001b[38;5;129;01min\u001b[39;00m casted_key)\n\u001b[1;32m   3810\u001b[0m     ):\n\u001b[1;32m   3811\u001b[0m         \u001b[38;5;28;01mraise\u001b[39;00m InvalidIndexError(key)\n\u001b[0;32m-> 3812\u001b[0m     \u001b[38;5;28;01mraise\u001b[39;00m \u001b[38;5;167;01mKeyError\u001b[39;00m(key) \u001b[38;5;28;01mfrom\u001b[39;00m \u001b[38;5;21;01merr\u001b[39;00m\n\u001b[1;32m   3813\u001b[0m \u001b[38;5;28;01mexcept\u001b[39;00m \u001b[38;5;167;01mTypeError\u001b[39;00m:\n\u001b[1;32m   3814\u001b[0m     \u001b[38;5;66;03m# If we have a listlike key, _check_indexing_error will raise\u001b[39;00m\n\u001b[1;32m   3815\u001b[0m     \u001b[38;5;66;03m#  InvalidIndexError. Otherwise we fall through and re-raise\u001b[39;00m\n\u001b[1;32m   3816\u001b[0m     \u001b[38;5;66;03m#  the TypeError.\u001b[39;00m\n\u001b[1;32m   3817\u001b[0m     \u001b[38;5;28mself\u001b[39m\u001b[38;5;241m.\u001b[39m_check_indexing_error(key)\n",
      "\u001b[0;31mKeyError\u001b[0m: 'TAX'"
     ]
    }
   ],
   "source": [
    "#trying out attribute combination\n",
    "housing[\"TAXRM\"]=housing['TAX']/housing['RM']"
   ]
  },
  {
   "cell_type": "code",
   "execution_count": null,
   "metadata": {
    "colab": {
     "base_uri": "https://localhost:8080/"
    },
    "id": "GydBBDyTMhFm",
    "outputId": "d888e8ee-8791-4895-cfab-de0570719b9d"
   },
   "outputs": [],
   "source": [
    "housing['TAXRM']"
   ]
  },
  {
   "cell_type": "code",
   "execution_count": null,
   "metadata": {
    "id": "et5_atEY7bZ8"
   },
   "outputs": [],
   "source": [
    "housing=strat_train_set.drop(\"MEDV\",axis=1)\n",
    "housing_labels=strat_train_set[\"MEDV\"].copy()"
   ]
  },
  {
   "cell_type": "code",
   "execution_count": null,
   "metadata": {
    "id": "KyiWWm-FasE9"
   },
   "outputs": [],
   "source": [
    "#checking for missing attribute how would model behave if we delete some entries of csv file\n",
    "#to take care of missing attributes we have 3 options: either delete the whole attribute\n",
    "#get rid of missing data, set the value to some value(0,mean or median)"
   ]
  },
  {
   "cell_type": "code",
   "execution_count": null,
   "metadata": {
    "id": "JgFM9P9ObU1k"
   },
   "outputs": [],
   "source": [
    "#after deleting few entries\n",
    "#a=housing.dropna(subset=[\"RM\"]).shape\n",
    "#a.shape\n",
    "#copy of this will del all the entries having na value for RM"
   ]
  },
  {
   "cell_type": "code",
   "execution_count": null,
   "metadata": {
    "id": "3zCd3W9zcM-u"
   },
   "outputs": [],
   "source": [
    "#deleting the whole attribute\n",
    "#housing.drop(\"RM\",axis=1)"
   ]
  },
  {
   "cell_type": "code",
   "execution_count": null,
   "metadata": {
    "id": "LkT085nUdFn3"
   },
   "outputs": [],
   "source": [
    "#filling missing entries\n",
    "#median=housing[\"RM\"].median()\n",
    "#housing[\"RM\"].fillna(median)"
   ]
  },
  {
   "cell_type": "code",
   "execution_count": null,
   "metadata": {
    "colab": {
     "base_uri": "https://localhost:8080/"
    },
    "id": "8S1O_XQqgSdB",
    "outputId": "5518a6fc-85d2-43d3-bf48-fe4664d9e73d"
   },
   "outputs": [],
   "source": [
    "#strategy to complete missing value using python library\n",
    "from sklearn.impute import SimpleImputer\n",
    "imputer=SimpleImputer(strategy=\"median\")\n",
    "imputer.fit(housing)\n",
    "imputer.statistics_"
   ]
  },
  {
   "cell_type": "code",
   "execution_count": null,
   "metadata": {
    "colab": {
     "base_uri": "https://localhost:8080/",
     "height": 320
    },
    "id": "h23usyjti0Jn",
    "outputId": "f400b67d-65f2-41ea-ee70-49c40a5a8b8b"
   },
   "outputs": [],
   "source": [
    "X=imputer.transform(housing)\n",
    "housing_tr=pd.DataFrame(X,columns=housing.columns)\n",
    "housing_tr.describe()"
   ]
  },
  {
   "cell_type": "code",
   "execution_count": null,
   "metadata": {
    "id": "zoVI6zII16bU"
   },
   "outputs": [],
   "source": [
    "from sklearn.pipeline import Pipeline\n",
    "from sklearn.preprocessing import StandardScaler\n",
    "my_pipeline=Pipeline([\n",
    "    ('Imputer',SimpleImputer(strategy=\"median\")),('std_scaler',StandardScaler()),\n",
    "])"
   ]
  },
  {
   "cell_type": "code",
   "execution_count": null,
   "metadata": {
    "colab": {
     "base_uri": "https://localhost:8080/"
    },
    "id": "Yn3MOYrQ3sA_",
    "outputId": "4a33b296-d6e4-4271-8a19-8d221ab50f20"
   },
   "outputs": [],
   "source": [
    "housing_num_tr=my_pipeline.fit_transform(housing)\n",
    "housing_num_tr\n"
   ]
  },
  {
   "cell_type": "code",
   "execution_count": null,
   "metadata": {
    "colab": {
     "base_uri": "https://localhost:8080/"
    },
    "id": "-l0EBWXz49Pu",
    "outputId": "ee8b4252-7dc5-4ee3-f1e6-7bf46cb3f33b"
   },
   "outputs": [],
   "source": [
    "housing_num_tr.shape"
   ]
  },
  {
   "cell_type": "code",
   "execution_count": null,
   "metadata": {},
   "outputs": [],
   "source": [
    "some_data=housing.iloc[:5]"
   ]
  },
  {
   "cell_type": "code",
   "execution_count": null,
   "metadata": {},
   "outputs": [],
   "source": [
    "some_labels=housing_labels.iloc[:5]"
   ]
  },
  {
   "cell_type": "code",
   "execution_count": null,
   "metadata": {},
   "outputs": [],
   "source": [
    "prepared_data=my_pipeline.transform(some_data)"
   ]
  },
  {
   "cell_type": "markdown",
   "metadata": {},
   "source": [
    "**Linear Regression**"
   ]
  },
  {
   "cell_type": "code",
   "execution_count": null,
   "metadata": {},
   "outputs": [],
   "source": [
    "from sklearn.linear_model import LinearRegression\n",
    "model1=LinearRegression()\n",
    "model1.fit(housing_num_tr,housing_labels)"
   ]
  },
  {
   "cell_type": "code",
   "execution_count": null,
   "metadata": {},
   "outputs": [],
   "source": [
    "model1.predict(prepared_data)"
   ]
  },
  {
   "cell_type": "code",
   "execution_count": null,
   "metadata": {},
   "outputs": [],
   "source": [
    "#evaluating the model\n",
    "from sklearn.metrics import mean_squared_error\n",
    "housing_predictions=model1.predict(housing_num_tr)\n",
    "lin_mse=mean_squared_error(housing_labels,housing_predictions)\n",
    "lin_rmse=np.sqrt(lin_mse)"
   ]
  },
  {
   "cell_type": "code",
   "execution_count": null,
   "metadata": {},
   "outputs": [],
   "source": [
    "lin_rmse"
   ]
  },
  {
   "cell_type": "code",
   "execution_count": null,
   "metadata": {},
   "outputs": [],
   "source": [
    "#using cross validation\n",
    "from sklearn.model_selection import cross_val_score\n",
    "scores=cross_val_score(model1,housing_num_tr,housing_labels,scoring=\"neg_mean_squared_error\", cv=10)\n",
    "rmse_scores=np.sqrt(-scores)"
   ]
  },
  {
   "cell_type": "code",
   "execution_count": null,
   "metadata": {},
   "outputs": [],
   "source": [
    "rmse_scores"
   ]
  },
  {
   "cell_type": "code",
   "execution_count": null,
   "metadata": {},
   "outputs": [],
   "source": [
    "def print_scores(scores):\n",
    "  print(\"Scores: \",scores)\n",
    "  print(\"Mean: \",scores.mean())\n",
    "  print(\"Standard deviation: \",scores.std())"
   ]
  },
  {
   "cell_type": "code",
   "execution_count": null,
   "metadata": {},
   "outputs": [],
   "source": [
    "print_scores(rmse_scores)"
   ]
  },
  {
   "cell_type": "markdown",
   "metadata": {},
   "source": [
    "**Desicion Tree Regressor**"
   ]
  },
  {
   "cell_type": "code",
   "execution_count": null,
   "metadata": {},
   "outputs": [],
   "source": [
    "from sklearn.tree import DecisionTreeRegressor\n",
    "model2=DecisionTreeRegressor()\n",
    "model2.fit(housing_num_tr,housing_labels)"
   ]
  },
  {
   "cell_type": "code",
   "execution_count": null,
   "metadata": {},
   "outputs": [],
   "source": [
    "model2.predict(prepared_data)"
   ]
  },
  {
   "cell_type": "code",
   "execution_count": null,
   "metadata": {},
   "outputs": [],
   "source": [
    "#evaluating the model\n",
    "from sklearn.metrics import mean_squared_error\n",
    "housing_predictions=model2.predict(housing_num_tr)\n",
    "lin_mse=mean_squared_error(housing_labels,housing_predictions)\n",
    "lin_rmse=np.sqrt(lin_mse)"
   ]
  },
  {
   "cell_type": "code",
   "execution_count": null,
   "metadata": {},
   "outputs": [],
   "source": [
    "lin_rmse"
   ]
  },
  {
   "cell_type": "code",
   "execution_count": null,
   "metadata": {},
   "outputs": [],
   "source": [
    "#using cross validation\n",
    "from sklearn.model_selection import cross_val_score\n",
    "scores=cross_val_score(model2,housing_num_tr,housing_labels,scoring=\"neg_mean_squared_error\", cv=10)\n",
    "rmse_scores=np.sqrt(-scores)"
   ]
  },
  {
   "cell_type": "code",
   "execution_count": null,
   "metadata": {},
   "outputs": [],
   "source": [
    "rmse_scores"
   ]
  },
  {
   "cell_type": "code",
   "execution_count": null,
   "metadata": {},
   "outputs": [],
   "source": [
    "def print_scores(scores):\n",
    "  print(\"Scores: \",scores)\n",
    "  print(\"Mean: \",scores.mean())\n",
    "  print(\"Standard deviation: \",scores.std())"
   ]
  },
  {
   "cell_type": "code",
   "execution_count": null,
   "metadata": {},
   "outputs": [],
   "source": [
    "print_scores(rmse_scores)"
   ]
  },
  {
   "cell_type": "markdown",
   "metadata": {},
   "source": [
    "**Random Forest Regressor**"
   ]
  },
  {
   "cell_type": "code",
   "execution_count": null,
   "metadata": {
    "colab": {
     "base_uri": "https://localhost:8080/",
     "height": 74
    },
    "id": "fCZFhzS97-pA",
    "outputId": "6009e895-2a82-4941-db4c-2eeaa1cfc1af"
   },
   "outputs": [],
   "source": [
    "from sklearn.ensemble import RandomForestRegressor\n",
    "model3=RandomForestRegressor()\n",
    "model3.fit(housing_num_tr,housing_labels)"
   ]
  },
  {
   "cell_type": "code",
   "execution_count": null,
   "metadata": {
    "colab": {
     "base_uri": "https://localhost:8080/"
    },
    "id": "mbZ_a-Bo7E72",
    "outputId": "b5d2f695-2572-434c-dfb5-b74f7ced1543"
   },
   "outputs": [],
   "source": [
    "model3.predict(prepared_data)"
   ]
  },
  {
   "cell_type": "code",
   "execution_count": null,
   "metadata": {
    "colab": {
     "base_uri": "https://localhost:8080/"
    },
    "id": "e81snkwi7NPY",
    "outputId": "3c10019c-057c-4b1d-d3c9-b58d0f08b1c0"
   },
   "outputs": [],
   "source": [
    "list(some_labels)"
   ]
  },
  {
   "cell_type": "code",
   "execution_count": null,
   "metadata": {
    "id": "aUDI7AwD7wC1"
   },
   "outputs": [],
   "source": [
    "#evaluating the model\n",
    "from sklearn.metrics import mean_squared_error\n",
    "housing_predictions=model3.predict(housing_num_tr)\n",
    "lin_mse=mean_squared_error(housing_labels,housing_predictions)\n",
    "lin_rmse=np.sqrt(lin_mse)"
   ]
  },
  {
   "cell_type": "code",
   "execution_count": null,
   "metadata": {
    "colab": {
     "base_uri": "https://localhost:8080/"
    },
    "id": "b9R1baIS9FDG",
    "outputId": "792479c7-c2ed-44cf-d62f-a58d6fc34156"
   },
   "outputs": [],
   "source": [
    "lin_rmse"
   ]
  },
  {
   "cell_type": "code",
   "execution_count": null,
   "metadata": {
    "id": "RZKLYKHe9Gg-"
   },
   "outputs": [],
   "source": [
    "#using cross validation\n",
    "from sklearn.model_selection import cross_val_score\n",
    "scores=cross_val_score(model3,housing_num_tr,housing_labels,scoring=\"neg_mean_squared_error\", cv=10)\n",
    "rmse_scores=np.sqrt(-scores)"
   ]
  },
  {
   "cell_type": "code",
   "execution_count": 22,
   "metadata": {
    "colab": {
     "base_uri": "https://localhost:8080/"
    },
    "id": "bS-4YtXYAi4I",
    "outputId": "0dfe23c0-ef51-416d-f0b0-0b805e015efd"
   },
   "outputs": [
    {
     "ename": "NameError",
     "evalue": "name 'rmse_scores' is not defined",
     "output_type": "error",
     "traceback": [
      "\u001b[0;31m---------------------------------------------------------------------------\u001b[0m",
      "\u001b[0;31mNameError\u001b[0m                                 Traceback (most recent call last)",
      "Cell \u001b[0;32mIn[22], line 1\u001b[0m\n\u001b[0;32m----> 1\u001b[0m \u001b[43mrmse_scores\u001b[49m\n",
      "\u001b[0;31mNameError\u001b[0m: name 'rmse_scores' is not defined"
     ]
    }
   ],
   "source": [
    "rmse_scores"
   ]
  },
  {
   "cell_type": "code",
   "execution_count": null,
   "metadata": {
    "id": "fW0d4Vo-BAUZ"
   },
   "outputs": [],
   "source": [
    "def print_scores(scores):\n",
    "  print(\"Scores: \",scores)\n",
    "  print(\"Mean: \",scores.mean())\n",
    "  print(\"Standard deviation: \",scores.std())"
   ]
  },
  {
   "cell_type": "code",
   "execution_count": null,
   "metadata": {
    "colab": {
     "base_uri": "https://localhost:8080/"
    },
    "id": "CK72oaIhBcCS",
    "outputId": "4010e349-3171-42db-c2a9-f6dd15dcdd3e"
   },
   "outputs": [],
   "source": [
    "print_scores(rmse_scores)"
   ]
  },
  {
   "cell_type": "code",
   "execution_count": 23,
   "metadata": {
    "id": "HLxrwox4GvkG"
   },
   "outputs": [],
   "source": [
    "# from joblib import dump,load\n",
    "# load(model,'Dragon.joblib')\n"
   ]
  },
  {
   "cell_type": "code",
   "execution_count": null,
   "metadata": {},
   "outputs": [],
   "source": [
    "X_test=strat_test_set.drop(\"MEDV\",axis=1)\n",
    "Y_test=strat_test_set[\"MEDV\"].copy()\n",
    "X_test_prepared=my_pipeline.transform(X_test)\n",
    "final_predictions=model2.predict(X_test_prepared)\n",
    "final_mse=mean_squared_error(Y_test,final_predictions)\n",
    "final_rmse=np.sqrt(final_mse)\n",
    "print(final_predictions,list(Y_test))"
   ]
  },
  {
   "cell_type": "code",
   "execution_count": null,
   "metadata": {},
   "outputs": [],
   "source": [
    "final_rmse"
   ]
  },
  {
   "cell_type": "code",
   "execution_count": null,
   "metadata": {},
   "outputs": [],
   "source": [
    "prepared_data[0]"
   ]
  },
  {
   "cell_type": "code",
   "execution_count": null,
   "metadata": {},
   "outputs": [],
   "source": []
  }
 ],
 "metadata": {
  "colab": {
   "provenance": []
  },
  "kernelspec": {
   "display_name": "Python 3 (ipykernel)",
   "language": "python",
   "name": "python3"
  },
  "language_info": {
   "codemirror_mode": {
    "name": "ipython",
    "version": 3
   },
   "file_extension": ".py",
   "mimetype": "text/x-python",
   "name": "python",
   "nbconvert_exporter": "python",
   "pygments_lexer": "ipython3",
   "version": "3.12.0"
  }
 },
 "nbformat": 4,
 "nbformat_minor": 4
}
